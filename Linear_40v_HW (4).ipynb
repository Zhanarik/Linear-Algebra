{
 "cells": [
  {
   "cell_type": "code",
   "execution_count": null,
   "metadata": {
    "id": "Qz75Jmg0WHBO"
   },
   "outputs": [],
   "source": []
  },
  {
   "cell_type": "markdown",
   "metadata": {
    "id": "I6sKk3ZFWo24"
   },
   "source": [
    "# 1 Find the best approximation matrix A1 of rank 2 of the matrix A in the\n",
    "\n",
    "1. Find the best approximation matrix $A_1$ of rank 2 of the matrix $A$ in the norm $\\Vert \\cdot \\Vert_2$ and find $\\Vert A - A_1 \\Vert_2$, where $A$"
   ]
  },
  {
   "cell_type": "code",
   "execution_count": null,
   "metadata": {
    "colab": {
     "base_uri": "https://localhost:8080/"
    },
    "id": "FCUPRljCWrOi",
    "outputId": "bb1995bd-10e7-4686-8136-d6b57301a20f"
   },
   "outputs": [
    {
     "name": "stdout",
     "output_type": "stream",
     "text": [
      "rank A:  3\n",
      "U: [[-0.33333333  0.66666667  0.66666667]\n",
      " [ 0.66666667 -0.33333333  0.66666667]\n",
      " [-0.66666667 -0.66666667  0.33333333]]\n",
      "E: [108.  54.  27.]\n",
      "V: [[-1.77635684e-16 -7.77777778e-01  4.44444444e-01  4.44444444e-01]\n",
      " [ 7.77777778e-01  4.46830501e-17  4.44444444e-01 -4.44444444e-01]\n",
      " [ 4.44444444e-01 -4.44444444e-01 -7.77777778e-01  7.45631266e-17]\n",
      " [ 4.44444444e-01  4.44444444e-01 -3.25528356e-18  7.77777778e-01]]\n"
     ]
    }
   ],
   "source": [
    "import numpy as np\n",
    "\n",
    "A = np.array([[36,20,-14,-32],[-6,-64,10,40],[-24,52,-55,-16]])\n",
    "print(\"rank A: \", np.linalg.matrix_rank(A))\n",
    "U, E, V = np.linalg.svd(A)\n",
    "print(\"U:\",U)\n",
    "print(\"E:\",E)\n",
    "print(\"V:\",V)"
   ]
  },
  {
   "cell_type": "code",
   "execution_count": null,
   "metadata": {
    "colab": {
     "base_uri": "https://localhost:8080/"
    },
    "id": "L4LU6YzkW_pq",
    "outputId": "63bd12b4-54fb-4c18-d54c-d26417e0cd48"
   },
   "outputs": [
    {
     "data": {
      "text/plain": [
       "array([[108.,   0.,   0.,   0.],\n",
       "       [  0.,  54.,   0.,   0.],\n",
       "       [  0.,   0.,   0.,   0.]])"
      ]
     },
     "execution_count": 35,
     "metadata": {},
     "output_type": "execute_result"
    }
   ],
   "source": [
    "E1 = np.diag(np.array([E[0], E[1], 0]))\n",
    "E1 = np.c_[ E1, np.zeros(3) ]\n",
    "E1"
   ]
  },
  {
   "cell_type": "code",
   "execution_count": null,
   "metadata": {
    "colab": {
     "base_uri": "https://localhost:8080/"
    },
    "id": "5TQLrBOBdBRB",
    "outputId": "e780db25-d3ee-454b-d9ba-529789050438"
   },
   "outputs": [
    {
     "data": {
      "text/plain": [
       "array([[ 28.,  28.,   0., -32.],\n",
       "       [-14., -56.,  24.,  40.],\n",
       "       [-28.,  56., -48., -16.]])"
      ]
     },
     "execution_count": 39,
     "metadata": {},
     "output_type": "execute_result"
    }
   ],
   "source": [
    "A1 = (U @ E1 @ V)\n",
    "A1.round(3)"
   ]
  },
  {
   "cell_type": "code",
   "execution_count": null,
   "metadata": {
    "colab": {
     "base_uri": "https://localhost:8080/"
    },
    "id": "XZOGDc4HdMjd",
    "outputId": "b3d9e606-c250-44c5-f390-19057e0e53f8"
   },
   "outputs": [
    {
     "name": "stdout",
     "output_type": "stream",
     "text": [
      "Rank A1:  2\n",
      "U: [[-0.66666667 -0.53206476 -0.52197955]\n",
      " [-0.66666667  0.73883954  0.09834479]\n",
      " [-0.33333333 -0.41354956  0.84726953]]\n",
      "E: [[27.  0.  0.]\n",
      " [ 0.  0.  0.]\n",
      " [ 0.  0.  0.]]\n",
      "V: [[-4.44444444e-01  4.44444444e-01  7.77777778e-01 -3.94745964e-16]\n",
      " [ 6.03563630e-01 -3.61238656e-01  5.51315592e-01 -4.48629798e-01]\n",
      " [-3.12859396e-01 -7.61247872e-01  2.56221986e-01  5.06923041e-01]\n",
      " [ 5.83351591e-01  3.04101047e-01  1.59571739e-01  7.36043704e-01]]\n"
     ]
    }
   ],
   "source": [
    "print(\"Rank A1: \",np.linalg.matrix_rank(A1))\n",
    "deltaA = A - A1\n",
    "U, E, V = np.linalg.svd(deltaA)\n",
    "print(\"U:\",U)\n",
    "print(\"E:\",np.diag(E).round(2))\n",
    "print(\"V:\",V)"
   ]
  },
  {
   "cell_type": "markdown",
   "metadata": {
    "id": "bCNpk_wJdzQs"
   },
   "source": [
    "Answer: $\\Vert A - A_1 \\Vert_2 = 27$"
   ]
  },
  {
   "cell_type": "markdown",
   "metadata": {
    "id": "b8PcqbtcYl2I"
   },
   "source": [
    "# 2 Estimate the relative error of the approximate solution (1, 1) of the system\n",
    "\n",
    "2. Estimate the relative error of the approximate solution $(1, 1)$ of the system $AX = b$ in the norms $\\vert \\cdot \\vert_1$ and $\\vert \\cdot \\vert_2$, using the condition number of the matrix $A$, where"
   ]
  },
  {
   "cell_type": "code",
   "execution_count": null,
   "metadata": {
    "id": "M7R0d9TPYQmX"
   },
   "outputs": [],
   "source": [
    "A = np.array([[4.94,  0.02],[4.04, -8.89]])\n",
    "b = np.array([[4.93],[-5.03]])\n",
    "\n"
   ]
  },
  {
   "cell_type": "markdown",
   "metadata": {
    "id": "JbaFH-5QeksJ"
   },
   "source": [
    "Approximate solution $\\hat X = (1, 1)^T$\n",
    "\n",
    "The relative error $\\delta X$\n",
    "\n",
    "By the property of the condition number: $\\frac{1}{\\varkappa(A)} \\delta B \\leq \\delta X \\leq \\varkappa(A)\\delta B$\n",
    "\n",
    "Consider $l_1$-norm first.\n",
    "\n",
    "Condition number of matrix $A$: $\\varkappa(A) = \\Vert A \\Vert \\Vert A^{-1} \\Vert$"
   ]
  },
  {
   "cell_type": "code",
   "execution_count": null,
   "metadata": {
    "colab": {
     "base_uri": "https://localhost:8080/"
    },
    "id": "9fj9bFueeiID",
    "outputId": "ef46b94c-cde1-4bea-de31-c741a1d0f17f"
   },
   "outputs": [
    {
     "data": {
      "text/plain": [
       "2.64"
      ]
     },
     "execution_count": 49,
     "metadata": {},
     "output_type": "execute_result"
    }
   ],
   "source": [
    "kappaA = np.linalg.norm(A, 1) * np.linalg.norm(np.linalg.inv(A), 1)\n",
    "round(kappaA, 2)"
   ]
  },
  {
   "cell_type": "markdown",
   "metadata": {
    "id": "7-OQfbmTeu0R"
   },
   "source": [
    "$\\varkappa(A) = 2.64$\n",
    "\n",
    "Let's take an arbitrary approximate vector $\\hat B$"
   ]
  },
  {
   "cell_type": "code",
   "execution_count": null,
   "metadata": {
    "colab": {
     "base_uri": "https://localhost:8080/"
    },
    "id": "iOAt8zhkY_bg",
    "outputId": "6e07bf38-63d7-4020-e715-5ddb20b99ee6"
   },
   "outputs": [
    {
     "name": "stdout",
     "output_type": "stream",
     "text": [
      "[[ 5.]\n",
      " [-5.]]\n"
     ]
    }
   ],
   "source": [
    "hatB = b.round()\n",
    "print(hatB)"
   ]
  },
  {
   "cell_type": "markdown",
   "metadata": {
    "id": "jReicRpTe4UX"
   },
   "source": [
    "Now we calculate $\\delta b = \\frac{|\\Delta b|_1}{|b|}$"
   ]
  },
  {
   "cell_type": "code",
   "execution_count": null,
   "metadata": {
    "colab": {
     "base_uri": "https://localhost:8080/"
    },
    "id": "-5X_hV60Y69_",
    "outputId": "45dadfd6-99a4-43d6-ea8f-03c77f1b1a3a"
   },
   "outputs": [
    {
     "name": "stdout",
     "output_type": "stream",
     "text": [
      "0.01\n"
     ]
    }
   ],
   "source": [
    "deltaB = np.linalg.norm(b - hatB, 2) / np.linalg.norm(b, 2)\n",
    "print(round(deltaB, 2))"
   ]
  },
  {
   "cell_type": "markdown",
   "metadata": {
    "id": "flBqnTgje7DW"
   },
   "source": [
    "Lower boundary"
   ]
  },
  {
   "cell_type": "code",
   "execution_count": null,
   "metadata": {
    "colab": {
     "base_uri": "https://localhost:8080/"
    },
    "id": "_C1I84-wY8vx",
    "outputId": "7fccdf7e-105c-49d2-dcf6-06d650c9e2fb"
   },
   "outputs": [
    {
     "data": {
      "text/plain": [
       "0.0041"
      ]
     },
     "execution_count": 26,
     "metadata": {},
     "output_type": "execute_result"
    }
   ],
   "source": [
    "round(1/kappaA * deltaB, 4)"
   ]
  },
  {
   "cell_type": "markdown",
   "metadata": {
    "id": "nyTO38D-e8jA"
   },
   "source": [
    "Upper boundary"
   ]
  },
  {
   "cell_type": "code",
   "execution_count": null,
   "metadata": {
    "colab": {
     "base_uri": "https://localhost:8080/"
    },
    "id": "zHuHxtTbZFPG",
    "outputId": "86876fbb-1cb8-4e08-fc2b-22f1d2016265"
   },
   "outputs": [
    {
     "data": {
      "text/plain": [
       "0.0285"
      ]
     },
     "execution_count": 27,
     "metadata": {},
     "output_type": "execute_result"
    }
   ],
   "source": [
    "round(kappaA * deltaB, 4)\n"
   ]
  },
  {
   "cell_type": "markdown",
   "metadata": {
    "id": "ew_6kRMTfRM-"
   },
   "source": [
    "So, $0.0041 \\leq \\delta x \\leq 0.0285$"
   ]
  },
  {
   "cell_type": "markdown",
   "metadata": {
    "id": "sxqAgS6afMnO"
   },
   "source": [
    "Now with l2 norm:"
   ]
  },
  {
   "cell_type": "code",
   "execution_count": null,
   "metadata": {
    "colab": {
     "base_uri": "https://localhost:8080/"
    },
    "id": "jQyiAcuLZHsY",
    "outputId": "465b0b31-96b5-461b-ea91-7b7adb737aa9"
   },
   "outputs": [
    {
     "name": "stdout",
     "output_type": "stream",
     "text": [
      "0.0047\n",
      "0.0247\n"
     ]
    }
   ],
   "source": [
    "kappaA = np.linalg.norm(A, 2) * np.linalg.norm(np.linalg.inv(A), 2)\n",
    "hatB = b.round()\n",
    "deltaB = np.linalg.norm(b - hatB, 2) / np.linalg.norm(b, 2)\n",
    "print(round(1/kappaA * deltaB, 4))\n",
    "print(round(kappaA * deltaB, 4))"
   ]
  },
  {
   "cell_type": "markdown",
   "metadata": {
    "id": "2x-rJsL8fz07"
   },
   "source": [
    "So, $0.0047 \\leq \\delta x \\leq 0.0247$"
   ]
  },
  {
   "cell_type": "markdown",
   "metadata": {
    "id": "6i2vdcuaf-Cv"
   },
   "source": [
    "# 3 Solve the system approximately and estimate the relative error of the\n",
    " Solve the system approximately and estimate the relative error of the solution in the norms $|\\cdot|_1$, $|\\cdot|_2$, $|\\cdot|_\\infty$: \n",
    "$$\\begin{cases}\n",
    "-5(6+\\varepsilon_1)x + 3(3+\\varepsilon_2)y = -2 + \\varepsilon_3 \\\\\n",
    "2x + (2 + \\varepsilon_1)y = -4 + \\varepsilon_4\n",
    "\\end{cases}$$ \n",
    "\n",
    "where the unknown numbers $\\varepsilon_j$ satisfy the conditions $\\vert \\varepsilon_j \\vert < 0.05$ for all $j=1,...,4$."
   ]
  },
  {
   "cell_type": "markdown",
   "metadata": {
    "id": "WjxJsQy8kv3k"
   },
   "source": [
    "The same system in vector form $AX = B \\Leftrightarrow \n",
    "\\begin{pmatrix}\n",
    "-5(6+\\varepsilon_1) & 3(3+\\varepsilon_2)\\\\\n",
    "2 & 2 + \\varepsilon_1\n",
    "\\end{pmatrix}\n",
    "\\begin{pmatrix}\n",
    "x \\\\\n",
    "y\n",
    "\\end{pmatrix} = \n",
    "\\begin{pmatrix}\n",
    "-2 + \\varepsilon_3 \\\\\n",
    "-4 + \\varepsilon_4\n",
    "\\end{pmatrix}$"
   ]
  },
  {
   "cell_type": "markdown",
   "metadata": {
    "id": "7QEqVkS7ll3C"
   },
   "source": [
    "Because $ \\varepsilon_j $ are unknown, we will find the solution over the widest range. Find the values $ \\varepsilon_1 $ and $ \\varepsilon_2 $ while $ \\varkappa (A) $ is the maximum."
   ]
  },
  {
   "cell_type": "code",
   "execution_count": null,
   "metadata": {
    "colab": {
     "base_uri": "https://localhost:8080/"
    },
    "id": "aqE634qWgJ1o",
    "outputId": "61918c20-64ad-42ef-ee39-55958b07c6f8"
   },
   "outputs": [
    {
     "name": "stdout",
     "output_type": "stream",
     "text": [
      "16.184\n"
     ]
    }
   ],
   "source": [
    "eps = [-0.05, 0.05, 0, 0]\n",
    "hatA = np.array([[-30,  9 ],[2, 2 ]])\n",
    "A = np.array([[-30 - 5*eps[0],  9 + 3*eps[1]],[2, 2 +   eps[0]]])\n",
    "kappaA = np.linalg.norm(A, 1) * np.linalg.norm(np.linalg.inv(A), 1)\n",
    "print(round(kappaA, 3))"
   ]
  },
  {
   "cell_type": "markdown",
   "metadata": {
    "id": "TguH3aStmg1g"
   },
   "source": [
    "So, $\\varepsilon_1 = -0.05$ и $\\varepsilon_2 = 0.05$\n",
    "\n",
    "Next find  ε3  and  ε4  where  δB  is maximum."
   ]
  },
  {
   "cell_type": "code",
   "execution_count": null,
   "metadata": {
    "colab": {
     "base_uri": "https://localhost:8080/"
    },
    "id": "75Jn1gt4mV40",
    "outputId": "4713ce56-57ea-4d17-c47b-72157d1a219e"
   },
   "outputs": [
    {
     "name": "stdout",
     "output_type": "stream",
     "text": [
      "0.016\n"
     ]
    }
   ],
   "source": [
    "eps = [-0.05, 0.05, -0.05, -0.05]\n",
    "hatB = np.array([-2, -4])\n",
    "B = np.array([-2 + eps[2], -4 + eps[3]])\n",
    "deltaB = np.linalg.norm(B - hatB, 1) / np.linalg.norm(B, 1)\n",
    "print(round(deltaB, 3))"
   ]
  },
  {
   "cell_type": "markdown",
   "metadata": {
    "id": "UFS4VnS4m_24"
   },
   "source": [
    "So $\\varepsilon_3 = -0.05$ и $\\varepsilon_4 = -0.05$"
   ]
  },
  {
   "cell_type": "markdown",
   "metadata": {
    "id": "MEjFaaUWnM1z"
   },
   "source": [
    "Let's find the relative error of the solution. \n",
    "\n",
    "Lower boundaries"
   ]
  },
  {
   "cell_type": "code",
   "execution_count": null,
   "metadata": {
    "colab": {
     "base_uri": "https://localhost:8080/"
    },
    "id": "9TbDlem_m1sh",
    "outputId": "6c344f06-590c-4730-de85-5cc888f42c32"
   },
   "outputs": [
    {
     "name": "stdout",
     "output_type": "stream",
     "text": [
      "By norm  1  :  0.0015\n",
      "By norm  2  :  0.002\n",
      "By norm  inf  :  0.0014\n"
     ]
    }
   ],
   "source": [
    "for n in [1, 2, np.inf]:\n",
    "    kappaA = np.linalg.norm(A, n) * np.linalg.norm(np.linalg.inv(A), n)\n",
    "    deltaA = np.linalg.norm(A - hatA, n) / np.linalg.norm(A, n)\n",
    "    deltaB = np.linalg.norm(B - hatB, n) / np.linalg.norm(B, n)\n",
    "    print('Norm ',n,' : ', round(1/kappaA * (deltaB + deltaA), 4))"
   ]
  },
  {
   "cell_type": "markdown",
   "metadata": {
    "id": "6Mi6jjLCnpvE"
   },
   "source": [
    "Upper boundaries:"
   ]
  },
  {
   "cell_type": "code",
   "execution_count": null,
   "metadata": {
    "colab": {
     "base_uri": "https://localhost:8080/"
    },
    "id": "V3XTSr0InaVI",
    "outputId": "8f54a2cc-0a88-4d14-c359-c5ecdd93e637"
   },
   "outputs": [
    {
     "name": "stdout",
     "output_type": "stream",
     "text": [
      "Norm 1  :  0.3928\n",
      "Norm 2  :  0.3176\n",
      "Norm inf  :  0.3662\n"
     ]
    }
   ],
   "source": [
    "norms = [1, 2, np.inf]\n",
    "for n in norms:\n",
    "    kappaA = np.linalg.norm(A, n) * np.linalg.norm(np.linalg.inv(A), n)\n",
    "    deltaA = np.linalg.norm(A - hatA, n) / np.linalg.norm(A, n)\n",
    "    deltaB = np.linalg.norm(B - hatB, n) / np.linalg.norm(B, n)\n",
    "    print('Norm',n,' : ', round(kappaA * (deltaB + deltaA), 4))"
   ]
  },
  {
   "cell_type": "code",
   "execution_count": null,
   "metadata": {
    "id": "mQfMGn9vnvqJ"
   },
   "outputs": [],
   "source": []
  },
  {
   "cell_type": "markdown",
   "metadata": {
    "id": "ki5QOldYn9Ti"
   },
   "source": [
    "# 4 Find the approximate inverse matrix to the matrix A and evaluate the\n",
    "4. Find the approximate inverse matrix to the matrix $A$ and evaluate the approximation error with respect to the uniform norm $\\Vert \\cdot \\Vert_1$ if the elements of the matrix $A$ are known with an absolute error of $0.01$:"
   ]
  },
  {
   "cell_type": "code",
   "execution_count": null,
   "metadata": {
    "id": "954VqH69oKfS"
   },
   "outputs": [],
   "source": [
    "A = np.array([[ 5, -8], \n",
    "              [7,  9]])\n",
    "\n",
    "Delta = np.array([[0.01, 0.01], \n",
    "                  [0.01, 0.01]])"
   ]
  },
  {
   "cell_type": "markdown",
   "metadata": {
    "id": "3BcUmTiMopn2"
   },
   "source": [
    "$A^{-1}$:"
   ]
  },
  {
   "cell_type": "code",
   "execution_count": null,
   "metadata": {
    "colab": {
     "base_uri": "https://localhost:8080/"
    },
    "id": "73JgyR4OoZyj",
    "outputId": "060002ba-5bfe-407d-ac12-8858d4267a95"
   },
   "outputs": [
    {
     "name": "stdout",
     "output_type": "stream",
     "text": [
      "[[ 0.09  0.08]\n",
      " [-0.07  0.05]]\n"
     ]
    }
   ],
   "source": [
    "invA = np.linalg.inv(A)\n",
    "print(np.matrix.round(invA, 2))"
   ]
  },
  {
   "cell_type": "markdown",
   "metadata": {
    "id": "FesHIAhrocOe"
   },
   "source": [
    "Relative error from above $\\delta A^{-1}\\leq \\varkappa(A)\\frac{\\Vert \\Delta \\Vert}{\\Vert A \\Vert}$"
   ]
  },
  {
   "cell_type": "code",
   "execution_count": null,
   "metadata": {
    "colab": {
     "base_uri": "https://localhost:8080/"
    },
    "id": "462AculipDCo",
    "outputId": "75b300f4-9afc-4f8e-e7f8-96614f559a81"
   },
   "outputs": [
    {
     "data": {
      "text/plain": [
       "0.003"
      ]
     },
     "execution_count": 76,
     "metadata": {},
     "output_type": "execute_result"
    }
   ],
   "source": [
    "round(np.linalg.norm(A, 1) * np.linalg.norm(invA, 1) * (np.linalg.norm(Delta, 1)\n",
    "         / np.linalg.norm(A, 1)), 3)"
   ]
  },
  {
   "cell_type": "markdown",
   "metadata": {
    "id": "9BacQmkGp82-"
   },
   "source": [
    "# 5. Use simple iteration method for finding the solution of the given linear\n",
    "5. Use simple iteration method for finding the solution of the given linear system \n",
    "$$\\begin{cases}\n",
    "21x + 6y + 1z = 6 \\\\\n",
    "5x + 21y + 3z = 4 \\\\\n",
    "6x + 7y + 25z = 2.\n",
    "\\end{cases}$$ \n",
    "Determine the iteration number after which the approximation error for each coordinate does not exceed $0.01$ and find the corresponding approximate solution. Start with $x=[0,0,0]^T$."
   ]
  },
  {
   "cell_type": "code",
   "execution_count": null,
   "metadata": {
    "id": "8mWPcP49ojB6"
   },
   "outputs": [],
   "source": [
    "A = np.array([[21, 6, 1], \n",
    "              [5, 21, 3], \n",
    "              [6, 7, 25]])\n",
    "\n",
    "B = np.array([6, 4, 2])"
   ]
  },
  {
   "cell_type": "markdown",
   "metadata": {
    "id": "661Z1KFbqZZo"
   },
   "source": [
    "$X_{k+1} = P X_{k} + B$"
   ]
  },
  {
   "cell_type": "markdown",
   "metadata": {
    "id": "3gL_qpk7qdHK"
   },
   "source": [
    "So:\n",
    "$$\\begin{cases}\n",
    "21x + 6y + 1z = 6 \\\\\n",
    "5x + 21y + 3z = 4 \\\\\n",
    "6x + 7y + 25z = 2\n",
    "\\end{cases} \\Leftrightarrow\n",
    "\\begin{cases}\n",
    "21x = - 6y - 1z + 6 \\\\\n",
    "21y = - 5x - 3z + 4 \\\\\n",
    "25z = - 6x - 7y + 2\n",
    "\\end{cases} \\Leftrightarrow\n",
    "\\begin{cases}\n",
    "x = - 6y/21 - 1z/21 + 6/21 \\\\\n",
    "y = - 5x/21 - 3z/21 + 4/21 \\\\\n",
    "z = - 6x/25 - 7y/25 + 2/25\n",
    "\\end{cases}$$"
   ]
  },
  {
   "cell_type": "markdown",
   "metadata": {
    "id": "Ve1PnSHdrBKW"
   },
   "source": [
    "So write the matrix $P$ and vector $B$:"
   ]
  },
  {
   "cell_type": "code",
   "execution_count": null,
   "metadata": {
    "id": "Xi2GUKzdqVA7"
   },
   "outputs": [],
   "source": [
    "P = np.array([[0, -6/21, -1/21], [-5/21, 0,-3/21],[-6/25, -7/25, 0 ]])\n",
    "\n",
    "B = np.array([6/21, 4/21, 2/25])"
   ]
  },
  {
   "cell_type": "code",
   "execution_count": null,
   "metadata": {
    "colab": {
     "base_uri": "https://localhost:8080/"
    },
    "id": "pCA7QO5CrtYq",
    "outputId": "c37f04ba-0364-40ac-85d9-4722e4f77113"
   },
   "outputs": [
    {
     "data": {
      "text/plain": [
       "0.57"
      ]
     },
     "execution_count": 81,
     "metadata": {},
     "output_type": "execute_result"
    }
   ],
   "source": [
    "round(np.linalg.norm(P, 1), 2)"
   ]
  },
  {
   "cell_type": "markdown",
   "metadata": {
    "id": "__2YTr5ar3ma"
   },
   "source": [
    "Because $\\Vert P \\Vert_1 < 1$ -> system converges"
   ]
  },
  {
   "cell_type": "markdown",
   "metadata": {
    "id": "Feum--KPsAAa"
   },
   "source": [
    "To get accuracy $\\varepsilon$: by the convergence theorem, we need $N$ iterations \n",
    "\n",
    "$$ N = \\log_{\\Vert P \\Vert}\\left( \\frac{\\varepsilon(1 - \\Vert P \\Vert)}{\\vert B \\vert} \\right) - 1$$\n",
    "\n",
    "For $\\varepsilon = 0.01$"
   ]
  },
  {
   "cell_type": "code",
   "execution_count": null,
   "metadata": {
    "colab": {
     "base_uri": "https://localhost:8080/"
    },
    "id": "bOnjFvCQr_ZE",
    "outputId": "2f37a9d3-8285-4c95-c996-75983978b834"
   },
   "outputs": [
    {
     "data": {
      "text/plain": [
       "7.52"
      ]
     },
     "execution_count": 82,
     "metadata": {},
     "output_type": "execute_result"
    }
   ],
   "source": [
    "import math\n",
    "normP = np.linalg.norm(P, 1)\n",
    "normB = np.linalg.norm(B, 1)\n",
    "round(math.log((0.01 * (1 - normP))/ normB, normP) - 1, 2)"
   ]
  },
  {
   "cell_type": "markdown",
   "metadata": {
    "id": "5gE3fkOesVac"
   },
   "source": [
    "We need 8 it-s:"
   ]
  },
  {
   "cell_type": "code",
   "execution_count": null,
   "metadata": {
    "colab": {
     "base_uri": "https://localhost:8080/"
    },
    "id": "TZAw-JGfr0Uf",
    "outputId": "df2fa9ba-d04b-41b3-e0d4-5d441c85ae9b"
   },
   "outputs": [
    {
     "name": "stdout",
     "output_type": "stream",
     "text": [
      "1 [0.2857 0.1905 0.08  ]\n",
      "2 [ 0.2275  0.111  -0.0419]\n",
      "3 [ 0.256   0.1423 -0.0057]\n",
      "4 [ 0.2453  0.1303 -0.0213]\n",
      "5 [ 0.2495  0.1351 -0.0154]\n",
      "6 [ 0.2478  0.1333 -0.0177]\n",
      "7 [ 0.2485  0.134  -0.0168]\n",
      "8 [ 0.2482  0.1337 -0.0172]\n"
     ]
    }
   ],
   "source": [
    "X = np.array([0, 0, 0])\n",
    "for i in range(8):\n",
    "    X = P @ X + B\n",
    "    print(i+1, X.round(4))"
   ]
  },
  {
   "cell_type": "code",
   "execution_count": null,
   "metadata": {
    "id": "TrzlmHwesZBy"
   },
   "outputs": [],
   "source": []
  },
  {
   "cell_type": "markdown",
   "metadata": {
    "id": "R6anmGeNsggT"
   },
   "source": [
    "# 6. Find the most influential vertex in the graph using the PageRank \n",
    "6. Find the most influential vertex in the graph using the PageRank algorithm with damping factor = $1 − \\beta = 0.85$, where the graph adjacency matrix is defined as follows"
   ]
  },
  {
   "cell_type": "code",
   "execution_count": null,
   "metadata": {
    "id": "ciM_HQ-fsnHR"
   },
   "outputs": [],
   "source": [
    "A = np.array([[1, 0, 0, 0, 1], \n",
    "              [1, 1, 0, 0, 1], \n",
    "              [0, 1, 1, 0, 1], \n",
    "              [0, 1, 1, 1, 0],\n",
    "              [0, 1, 1, 0, 1]])"
   ]
  },
  {
   "cell_type": "markdown",
   "metadata": {
    "id": "Dv7JO4Dys5Qm"
   },
   "source": [
    "Find transition matrix:"
   ]
  },
  {
   "cell_type": "code",
   "execution_count": null,
   "metadata": {
    "colab": {
     "base_uri": "https://localhost:8080/"
    },
    "id": "aX0SoxZ2sx15",
    "outputId": "fa2b88af-0e48-4f33-f8cb-789710aa48a6"
   },
   "outputs": [
    {
     "name": "stdout",
     "output_type": "stream",
     "text": [
      "[[0.5        0.33333333 0.         0.         0.        ]\n",
      " [0.         0.33333333 0.33333333 0.33333333 0.33333333]\n",
      " [0.         0.         0.33333333 0.33333333 0.33333333]\n",
      " [0.         0.         0.         0.33333333 0.        ]\n",
      " [0.5        0.33333333 0.33333333 0.         0.33333333]]\n"
     ]
    }
   ],
   "source": [
    "P = np.array([A[0]/2, A[1]/3, A[2]/3, A[3]/3, A[4]/3]).T\n",
    "print(P)"
   ]
  },
  {
   "cell_type": "markdown",
   "metadata": {
    "id": "WPKY2gDrtFqp"
   },
   "source": [
    "Solution will be in form $X = MX$, where $M = (1 - \\beta)P + \\beta Q$\n",
    "\n",
    "β=0.15\n",
    "\n",
    "By definition Q matrix has form:"
   ]
  },
  {
   "cell_type": "code",
   "execution_count": null,
   "metadata": {
    "colab": {
     "base_uri": "https://localhost:8080/"
    },
    "id": "u7nyRxN3s7s_",
    "outputId": "d2928062-1d35-4914-d325-baae4555a930"
   },
   "outputs": [
    {
     "name": "stdout",
     "output_type": "stream",
     "text": [
      "[[0.2 0.2 0.2 0.2 0.2]\n",
      " [0.2 0.2 0.2 0.2 0.2]\n",
      " [0.2 0.2 0.2 0.2 0.2]\n",
      " [0.2 0.2 0.2 0.2 0.2]\n",
      " [0.2 0.2 0.2 0.2 0.2]]\n"
     ]
    }
   ],
   "source": [
    "Q = np.ones([5, 5])/5\n",
    "print(Q)"
   ]
  },
  {
   "cell_type": "markdown",
   "metadata": {
    "id": "eskAP-0VtXx9"
   },
   "source": [
    "So, solution:"
   ]
  },
  {
   "cell_type": "code",
   "execution_count": null,
   "metadata": {
    "colab": {
     "base_uri": "https://localhost:8080/"
    },
    "id": "AVgBMR8xtVls",
    "outputId": "4b34aa8b-2fd8-458d-c75c-6cd22ce5fcb2"
   },
   "outputs": [
    {
     "name": "stdout",
     "output_type": "stream",
     "text": [
      "[0.17 0.26 0.2  0.09 0.29]\n",
      "[0.18 0.26 0.19 0.05 0.31]\n",
      "[0.18 0.26 0.19 0.05 0.32]\n",
      "[0.18 0.26 0.19 0.04 0.33]\n",
      "[0.18 0.26 0.19 0.04 0.33]\n",
      "[0.18 0.26 0.19 0.04 0.33]\n",
      "[0.18 0.26 0.19 0.04 0.33]\n",
      "[0.18 0.26 0.19 0.04 0.33]\n",
      "[0.18 0.26 0.19 0.04 0.33]\n",
      "[0.18 0.26 0.19 0.04 0.33]\n",
      "[0.18 0.26 0.19 0.04 0.33]\n",
      "[0.18 0.26 0.19 0.04 0.33]\n",
      "[0.18 0.26 0.19 0.04 0.33]\n",
      "[0.18 0.26 0.19 0.04 0.33]\n",
      "[0.18 0.26 0.19 0.04 0.33]\n"
     ]
    }
   ],
   "source": [
    "beta = 0.15\n",
    "M = (1 - beta)*P + beta*Q\n",
    "X = np.ones(5)/5\n",
    "for i in range(15):\n",
    "    X = M@X\n",
    "    print(X.round(2))"
   ]
  },
  {
   "cell_type": "markdown",
   "metadata": {
    "id": "Su3GwiBwujls"
   },
   "source": [
    "the most influential vertex is 5."
   ]
  },
  {
   "cell_type": "code",
   "execution_count": null,
   "metadata": {
    "id": "JWG8-NRotdFC"
   },
   "outputs": [],
   "source": []
  },
  {
   "cell_type": "markdown",
   "metadata": {
    "id": "sWhLW2zyu5Fn"
   },
   "source": [
    "# 7. Find the value $f(A)$ of the function $f(l) = e^{l+1}$, where"
   ]
  },
  {
   "cell_type": "code",
   "execution_count": null,
   "metadata": {
    "colab": {
     "base_uri": "https://localhost:8080/"
    },
    "id": "veB4w_yiu6Eo",
    "outputId": "ed68bc53-bddf-446b-fa7c-2eea549110af"
   },
   "outputs": [
    {
     "name": "stdout",
     "output_type": "stream",
     "text": [
      "[[  4.   5.  -2.]\n",
      " [ -4. -11.   5.]\n",
      " [-14. -46.  19.]]\n"
     ]
    }
   ],
   "source": [
    "A = np.array([[3, 5, -2], [-4, -12, 5], [-14, -46, 18]]) + 1*np.identity(3)\n",
    "print(A)"
   ]
  },
  {
   "cell_type": "code",
   "execution_count": null,
   "metadata": {
    "colab": {
     "base_uri": "https://localhost:8080/"
    },
    "id": "cmMP1pF_w3ai",
    "outputId": "1cefdf11-8df0-4385-fec7-8b8764de75e5"
   },
   "outputs": [
    {
     "data": {
      "text/plain": [
       "array([[  363.25771965,  1069.68762202,  -363.25771965],\n",
       "       [ -726.51543929, -2199.6318548 ,   746.60097622],\n",
       "       [-2219.71739172, -6739.49432287,  2279.97400249]])"
      ]
     },
     "execution_count": 100,
     "metadata": {},
     "output_type": "execute_result"
    }
   ],
   "source": [
    "term = lambda n: np.linalg.matrix_power(A, n)/float(math.factorial(n))\n",
    "sum([term(n) for n in range(40)])"
   ]
  },
  {
   "cell_type": "code",
   "execution_count": null,
   "metadata": {
    "colab": {
     "base_uri": "https://localhost:8080/"
    },
    "id": "CXQ045YJvBv_",
    "outputId": "fb42a277-9284-412b-a8c0-aaad5c3c2943"
   },
   "outputs": [
    {
     "data": {
      "text/plain": [
       "array([[  363.25771965,  1069.68762202,  -363.25771965],\n",
       "       [ -726.51543929, -2199.6318548 ,   746.60097622],\n",
       "       [-2219.71739172, -6739.49432287,  2279.97400249]])"
      ]
     },
     "execution_count": 99,
     "metadata": {},
     "output_type": "execute_result"
    }
   ],
   "source": [
    "from scipy.linalg import expm\n",
    "expm_A = expm(A)\n",
    "expm_A"
   ]
  },
  {
   "cell_type": "code",
   "execution_count": null,
   "metadata": {
    "id": "37g78IG5xGTB"
   },
   "outputs": [],
   "source": []
  }
 ],
 "metadata": {
  "colab": {
   "name": "Linear_40v_HW.ipynb",
   "provenance": []
  },
  "kernelspec": {
   "display_name": "Python 3",
   "language": "python",
   "name": "python3"
  },
  "language_info": {
   "codemirror_mode": {
    "name": "ipython",
    "version": 3
   },
   "file_extension": ".py",
   "mimetype": "text/x-python",
   "name": "python",
   "nbconvert_exporter": "python",
   "pygments_lexer": "ipython3",
   "version": "3.7.4"
  }
 },
 "nbformat": 4,
 "nbformat_minor": 1
}
